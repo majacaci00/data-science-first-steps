{
 "cells": [
  {
   "cell_type": "markdown",
   "metadata": {},
   "source": [
    "# Project 6\n",
    "\n",
    "This project involves NLP, decision trees, bagging, boosting, and more!\n",
    "\n",
    "---"
   ]
  },
  {
   "cell_type": "markdown",
   "metadata": {},
   "source": [
    "## Load packages\n",
    "\n",
    "You are likely going to need to install the `imdbpie` package:\n",
    "\n",
    "    > pip install imdbpie\n",
    "\n",
    "---"
   ]
  },
  {
   "cell_type": "code",
   "execution_count": 4,
   "metadata": {
    "collapsed": false
   },
   "outputs": [],
   "source": [
    "import os\n",
    "import subprocess\n",
    "import collections\n",
    "import re\n",
    "import csv\n",
    "import json\n",
    "\n",
    "import pandas as pd\n",
    "import numpy as np\n",
    "import scipy\n",
    "\n",
    "from sklearn.ensemble import RandomForestClassifier\n",
    "from sklearn.ensemble import RandomForestRegressor\n",
    "\n",
    "import psycopg2\n",
    "import requests\n",
    "from imdbpie import Imdb\n",
    "import nltk\n",
    "\n",
    "import urllib\n",
    "from bs4 import BeautifulSoup\n",
    "import nltk\n",
    "\n",
    "import matplotlib.pyplot as plt\n",
    "import seaborn as sns\n",
    "\n",
    "%matplotlib inline"
   ]
  },
  {
   "cell_type": "markdown",
   "metadata": {},
   "source": [
    "---\n",
    "\n",
    "## Part 1: Acquire the Data\n",
    "\n",
    "You will connect to the IMDB API to query for movies. \n",
    "\n",
    "See here for documentation on how to use the package:\n",
    "\n",
    "https://github.com/richardasaurus/imdb-pie"
   ]
  },
  {
   "cell_type": "markdown",
   "metadata": {},
   "source": [
    "#### 1. Connect to the IMDB API"
   ]
  },
  {
   "cell_type": "code",
   "execution_count": 5,
   "metadata": {
    "collapsed": true
   },
   "outputs": [],
   "source": [
    "imdb = Imdb()\n",
    "imdb = Imdb(anonymize=True)"
   ]
  },
  {
   "cell_type": "markdown",
   "metadata": {},
   "source": [
    "#### 2. Query the top 250 rated movies in the database"
   ]
  },
  {
   "cell_type": "code",
   "execution_count": 6,
   "metadata": {
    "collapsed": false
   },
   "outputs": [],
   "source": [
    "top = imdb.top_250()"
   ]
  },
  {
   "cell_type": "markdown",
   "metadata": {},
   "source": [
    "#### 3. Make a dataframe from the movie data\n",
    "\n",
    "Keep the fields:\n",
    "\n",
    "    num_votes\n",
    "    rating\n",
    "    tconst\n",
    "    title\n",
    "    year\n",
    "    \n",
    "And discard the rest"
   ]
  },
  {
   "cell_type": "code",
   "execution_count": 7,
   "metadata": {
    "collapsed": false,
    "scrolled": true
   },
   "outputs": [],
   "source": [
    "def movie_parser(m):\n",
    "    return [m['num_votes'], m['rating'], m['tconst'], m['title'], m['year']]\n",
    "\n",
    "movies = pd.DataFrame(np.array([movie_parser(m) for m in top]),\n",
    "                      columns=['num_votes','rating','tconst','title','year'])"
   ]
  },
  {
   "cell_type": "code",
   "execution_count": 8,
   "metadata": {
    "collapsed": false
   },
   "outputs": [
    {
     "data": {
      "text/plain": [
       "num_votes    object\n",
       "rating       object\n",
       "tconst       object\n",
       "title        object\n",
       "year         object\n",
       "dtype: object"
      ]
     },
     "execution_count": 8,
     "metadata": {},
     "output_type": "execute_result"
    }
   ],
   "source": [
    "movies.dtypes"
   ]
  },
  {
   "cell_type": "markdown",
   "metadata": {},
   "source": [
    "#### 3. Select only the top 100 movies"
   ]
  },
  {
   "cell_type": "code",
   "execution_count": 9,
   "metadata": {
    "collapsed": true
   },
   "outputs": [],
   "source": [
    "movies = movies[0:100]"
   ]
  },
  {
   "cell_type": "markdown",
   "metadata": {},
   "source": [
    "#### 4. Get the genres and runtime for each movie and add them to the dataframe\n",
    "\n",
    "There can be multiple genres per movie, so this will need some finessing."
   ]
  },
  {
   "cell_type": "code",
   "execution_count": 10,
   "metadata": {
    "collapsed": false,
    "scrolled": true
   },
   "outputs": [
    {
     "name": "stdout",
     "output_type": "stream",
     "text": [
      "The Shawshank Redemption\n",
      "The Godfather\n",
      "The Godfather: Part II\n",
      "The Dark Knight\n",
      "Schindler's List\n",
      "12 Angry Men\n",
      "Pulp Fiction\n",
      "The Lord of the Rings: The Return of the King\n",
      "The Good, the Bad and the Ugly\n",
      "Fight Club\n",
      "The Lord of the Rings: The Fellowship of the Ring\n",
      "Star Wars: Episode V - The Empire Strikes Back\n",
      "Forrest Gump\n",
      "Inception\n",
      "The Lord of the Rings: The Two Towers\n",
      "One Flew Over the Cuckoo's Nest\n",
      "Goodfellas\n",
      "The Matrix\n",
      "Seven Samurai\n",
      "Star Wars\n",
      "City of God\n",
      "Se7en\n",
      "The Silence of the Lambs\n",
      "It's a Wonderful Life\n",
      "The Usual Suspects\n",
      "Life Is Beautiful\n",
      "Léon: The Professional\n",
      "Once Upon a Time in the West\n",
      "Spirited Away\n",
      "Saving Private Ryan\n",
      "American History X\n",
      "Interstellar\n",
      "Casablanca\n",
      "Psycho\n",
      "City Lights\n",
      "Indiana Jones and the Raiders of the Lost Ark\n",
      "The Intouchables\n",
      "Rear Window\n",
      "Modern Times\n",
      "The Green Mile\n",
      "Terminator 2: Judgment Day\n",
      "The Pianist\n",
      "The Departed\n",
      "Back to the Future\n",
      "Whiplash\n",
      "Gladiator\n",
      "Memento\n",
      "Apocalypse Now\n",
      "The Prestige\n",
      "The Lion King\n",
      "Dr. Strangelove or: How I Learned to Stop Worrying and Love the Bomb\n",
      "Sunset Blvd.\n",
      "Alien\n",
      "The Great Dictator\n",
      "The Lives of Others\n",
      "Cinema Paradiso\n",
      "Django Unchained\n",
      "The Shining\n",
      "Paths of Glory\n",
      "Grave of the Fireflies\n",
      "WALL·E\n",
      "The Dark Knight Rises\n",
      "American Beauty\n",
      "Aliens\n",
      "Princess Mononoke\n",
      "Oldboy\n",
      "Citizen Kane\n",
      "North by Northwest\n",
      "Once Upon a Time in America\n",
      "Das Boot\n",
      "Vertigo\n",
      "Star Wars: Episode VI - Return of the Jedi\n",
      "Witness for the Prosecution\n",
      "M\n",
      "Reservoir Dogs\n",
      "Amélie\n",
      "Braveheart\n",
      "Requiem for a Dream\n",
      "A Clockwork Orange\n",
      "Taxi Driver\n",
      "Double Indemnity\n",
      "Toy Story 3\n",
      "Lawrence of Arabia\n",
      "To Kill a Mockingbird\n",
      "Eternal Sunshine of the Spotless Mind\n",
      "Full Metal Jacket\n",
      "Amadeus\n",
      "The Sting\n",
      "2001: A Space Odyssey\n",
      "Bicycle Thieves\n",
      "Singin' in the Rain\n",
      "Snatch.\n",
      "Toy Story\n",
      "Monty Python and the Holy Grail\n",
      "Inglourious Basterds\n",
      "The Kid\n",
      "L.A. Confidential\n",
      "For a Few Dollars More\n",
      "The Apartment\n",
      "Rashomon\n"
     ]
    }
   ],
   "source": [
    "runtimes = []\n",
    "genres = []\n",
    "\n",
    "for t in movies.tconst.values:\n",
    "    title = imdb.get_title_by_id(t)\n",
    "    print title.title\n",
    "    runtimes.append(title.runtime)\n",
    "    genres.append(title.genres)"
   ]
  },
  {
   "cell_type": "code",
   "execution_count": 11,
   "metadata": {
    "collapsed": false
   },
   "outputs": [],
   "source": [
    "flat_genres = [\n",
    "    item \n",
    "    for sublist in genres \n",
    "    for item in sublist\n",
    "]\n",
    "\n",
    "unique_genres = np.unique(flat_genres)"
   ]
  },
  {
   "cell_type": "code",
   "execution_count": 12,
   "metadata": {
    "collapsed": true
   },
   "outputs": [],
   "source": [
    "rows = []\n",
    "for i, t in enumerate(movies.tconst):\n",
    "    row = [t]\n",
    "    row.extend([1 if x in genres[i] else 0 for x in unique_genres])\n",
    "    rows.append(row)"
   ]
  },
  {
   "cell_type": "code",
   "execution_count": 13,
   "metadata": {
    "collapsed": false
   },
   "outputs": [
    {
     "data": {
      "text/html": [
       "<div>\n",
       "<table border=\"1\" class=\"dataframe\">\n",
       "  <thead>\n",
       "    <tr style=\"text-align: right;\">\n",
       "      <th></th>\n",
       "      <th>tconst</th>\n",
       "      <th>Action</th>\n",
       "      <th>Adventure</th>\n",
       "      <th>Animation</th>\n",
       "      <th>Biography</th>\n",
       "      <th>Comedy</th>\n",
       "      <th>Crime</th>\n",
       "      <th>Drama</th>\n",
       "      <th>Family</th>\n",
       "      <th>Fantasy</th>\n",
       "      <th>...</th>\n",
       "      <th>History</th>\n",
       "      <th>Horror</th>\n",
       "      <th>Music</th>\n",
       "      <th>Musical</th>\n",
       "      <th>Mystery</th>\n",
       "      <th>Romance</th>\n",
       "      <th>Sci-Fi</th>\n",
       "      <th>Thriller</th>\n",
       "      <th>War</th>\n",
       "      <th>Western</th>\n",
       "    </tr>\n",
       "  </thead>\n",
       "  <tbody>\n",
       "    <tr>\n",
       "      <th>0</th>\n",
       "      <td>tt0111161</td>\n",
       "      <td>0</td>\n",
       "      <td>0</td>\n",
       "      <td>0</td>\n",
       "      <td>0</td>\n",
       "      <td>0</td>\n",
       "      <td>1</td>\n",
       "      <td>1</td>\n",
       "      <td>0</td>\n",
       "      <td>0</td>\n",
       "      <td>...</td>\n",
       "      <td>0</td>\n",
       "      <td>0</td>\n",
       "      <td>0</td>\n",
       "      <td>0</td>\n",
       "      <td>0</td>\n",
       "      <td>0</td>\n",
       "      <td>0</td>\n",
       "      <td>0</td>\n",
       "      <td>0</td>\n",
       "      <td>0</td>\n",
       "    </tr>\n",
       "    <tr>\n",
       "      <th>1</th>\n",
       "      <td>tt0068646</td>\n",
       "      <td>0</td>\n",
       "      <td>0</td>\n",
       "      <td>0</td>\n",
       "      <td>0</td>\n",
       "      <td>0</td>\n",
       "      <td>1</td>\n",
       "      <td>1</td>\n",
       "      <td>0</td>\n",
       "      <td>0</td>\n",
       "      <td>...</td>\n",
       "      <td>0</td>\n",
       "      <td>0</td>\n",
       "      <td>0</td>\n",
       "      <td>0</td>\n",
       "      <td>0</td>\n",
       "      <td>0</td>\n",
       "      <td>0</td>\n",
       "      <td>0</td>\n",
       "      <td>0</td>\n",
       "      <td>0</td>\n",
       "    </tr>\n",
       "    <tr>\n",
       "      <th>2</th>\n",
       "      <td>tt0071562</td>\n",
       "      <td>0</td>\n",
       "      <td>0</td>\n",
       "      <td>0</td>\n",
       "      <td>0</td>\n",
       "      <td>0</td>\n",
       "      <td>1</td>\n",
       "      <td>1</td>\n",
       "      <td>0</td>\n",
       "      <td>0</td>\n",
       "      <td>...</td>\n",
       "      <td>0</td>\n",
       "      <td>0</td>\n",
       "      <td>0</td>\n",
       "      <td>0</td>\n",
       "      <td>0</td>\n",
       "      <td>0</td>\n",
       "      <td>0</td>\n",
       "      <td>0</td>\n",
       "      <td>0</td>\n",
       "      <td>0</td>\n",
       "    </tr>\n",
       "    <tr>\n",
       "      <th>3</th>\n",
       "      <td>tt0468569</td>\n",
       "      <td>1</td>\n",
       "      <td>1</td>\n",
       "      <td>0</td>\n",
       "      <td>0</td>\n",
       "      <td>0</td>\n",
       "      <td>1</td>\n",
       "      <td>0</td>\n",
       "      <td>0</td>\n",
       "      <td>0</td>\n",
       "      <td>...</td>\n",
       "      <td>0</td>\n",
       "      <td>0</td>\n",
       "      <td>0</td>\n",
       "      <td>0</td>\n",
       "      <td>0</td>\n",
       "      <td>0</td>\n",
       "      <td>0</td>\n",
       "      <td>1</td>\n",
       "      <td>0</td>\n",
       "      <td>0</td>\n",
       "    </tr>\n",
       "    <tr>\n",
       "      <th>4</th>\n",
       "      <td>tt0108052</td>\n",
       "      <td>0</td>\n",
       "      <td>0</td>\n",
       "      <td>0</td>\n",
       "      <td>1</td>\n",
       "      <td>0</td>\n",
       "      <td>0</td>\n",
       "      <td>1</td>\n",
       "      <td>0</td>\n",
       "      <td>0</td>\n",
       "      <td>...</td>\n",
       "      <td>1</td>\n",
       "      <td>0</td>\n",
       "      <td>0</td>\n",
       "      <td>0</td>\n",
       "      <td>0</td>\n",
       "      <td>0</td>\n",
       "      <td>0</td>\n",
       "      <td>0</td>\n",
       "      <td>0</td>\n",
       "      <td>0</td>\n",
       "    </tr>\n",
       "  </tbody>\n",
       "</table>\n",
       "<p>5 rows × 21 columns</p>\n",
       "</div>"
      ],
      "text/plain": [
       "      tconst  Action  Adventure  Animation  Biography  Comedy  Crime  Drama  \\\n",
       "0  tt0111161       0          0          0          0       0      1      1   \n",
       "1  tt0068646       0          0          0          0       0      1      1   \n",
       "2  tt0071562       0          0          0          0       0      1      1   \n",
       "3  tt0468569       1          1          0          0       0      1      0   \n",
       "4  tt0108052       0          0          0          1       0      0      1   \n",
       "\n",
       "   Family  Fantasy   ...     History  Horror  Music  Musical  Mystery  \\\n",
       "0       0        0   ...           0       0      0        0        0   \n",
       "1       0        0   ...           0       0      0        0        0   \n",
       "2       0        0   ...           0       0      0        0        0   \n",
       "3       0        0   ...           0       0      0        0        0   \n",
       "4       0        0   ...           1       0      0        0        0   \n",
       "\n",
       "   Romance  Sci-Fi  Thriller  War  Western  \n",
       "0        0       0         0    0        0  \n",
       "1        0       0         0    0        0  \n",
       "2        0       0         0    0        0  \n",
       "3        0       0         1    0        0  \n",
       "4        0       0         0    0        0  \n",
       "\n",
       "[5 rows x 21 columns]"
      ]
     },
     "execution_count": 13,
     "metadata": {},
     "output_type": "execute_result"
    }
   ],
   "source": [
    "genres = pd.DataFrame(rows, columns=['tconst']+unique_genres.tolist())\n",
    "genres.head()"
   ]
  },
  {
   "cell_type": "code",
   "execution_count": 14,
   "metadata": {
    "collapsed": true
   },
   "outputs": [],
   "source": [
    "movies = movies.merge(genres, on='tconst')"
   ]
  },
  {
   "cell_type": "code",
   "execution_count": 15,
   "metadata": {
    "collapsed": false
   },
   "outputs": [
    {
     "name": "stdout",
     "output_type": "stream",
     "text": [
      "Index([u'num_votes',    u'rating',    u'tconst',     u'title',      u'year',\n",
      "          u'Action', u'Adventure', u'Animation', u'Biography',    u'Comedy',\n",
      "           u'Crime',     u'Drama',    u'Family',   u'Fantasy', u'Film-Noir',\n",
      "         u'History',    u'Horror',     u'Music',   u'Musical',   u'Mystery',\n",
      "         u'Romance',    u'Sci-Fi',  u'Thriller',       u'War',   u'Western',\n",
      "         u'runtime'],\n",
      "      dtype='object')\n"
     ]
    }
   ],
   "source": [
    "movies['runtime'] = runtimes\n",
    "print movies.columns"
   ]
  },
  {
   "cell_type": "code",
   "execution_count": 16,
   "metadata": {
    "collapsed": false
   },
   "outputs": [],
   "source": [
    "movies['year'] = movies.year.map(lambda x: float(x))\n",
    "movies['rating'] = movies.rating.map(lambda x: float(x))\n",
    "movies['num_votes'] = movies.num_votes.map(lambda x: float(x))"
   ]
  },
  {
   "cell_type": "markdown",
   "metadata": {},
   "source": [
    "#### 4. Write the Results to a csv"
   ]
  },
  {
   "cell_type": "code",
   "execution_count": 17,
   "metadata": {
    "collapsed": false
   },
   "outputs": [],
   "source": [
    "movies.to_csv('movies.csv', index=False, encoding = 'utf-8')"
   ]
  },
  {
   "cell_type": "code",
   "execution_count": 44,
   "metadata": {
    "collapsed": true
   },
   "outputs": [],
   "source": [
    "movies = pd.read_csv('movies.csv')"
   ]
  },
  {
   "cell_type": "markdown",
   "metadata": {},
   "source": [
    "---\n",
    "\n",
    "## Part 2: Wrangle the text data"
   ]
  },
  {
   "cell_type": "markdown",
   "metadata": {},
   "source": [
    "#### 1. Scrape the reviews for the top 100 movies"
   ]
  },
  {
   "cell_type": "markdown",
   "metadata": {},
   "source": [
    "*Hint*: Use a loop to scrape each page at once"
   ]
  },
  {
   "cell_type": "code",
   "execution_count": 18,
   "metadata": {
    "collapsed": false,
    "scrolled": true
   },
   "outputs": [
    {
     "name": "stdout",
     "output_type": "stream",
     "text": [
      "0\n",
      "1\n",
      "2\n",
      "3\n",
      "4\n",
      "5\n",
      "6\n",
      "7\n",
      "8\n",
      "9\n",
      "10\n",
      "11\n",
      "12\n",
      "13\n",
      "14\n",
      "15\n",
      "16\n",
      "17\n",
      "18\n",
      "19\n",
      "20\n",
      "21\n",
      "22\n",
      "23\n",
      "24\n",
      "25\n",
      "26\n",
      "27\n",
      "28\n",
      "29\n",
      "30\n",
      "31\n",
      "32\n",
      "33\n",
      "34\n",
      "35\n",
      "36\n",
      "37\n",
      "38\n",
      "39\n",
      "40\n",
      "41\n",
      "42\n",
      "43\n",
      "44\n",
      "45\n",
      "46\n",
      "47\n",
      "48\n",
      "49\n",
      "50\n",
      "51\n",
      "52\n",
      "53\n",
      "54\n",
      "55\n",
      "56\n",
      "57\n",
      "58\n",
      "59\n",
      "60\n",
      "61\n",
      "62\n",
      "63\n",
      "64\n",
      "65\n",
      "66\n",
      "67\n",
      "68\n",
      "69\n",
      "70\n",
      "71\n",
      "72\n",
      "73\n",
      "74\n",
      "75\n",
      "76\n",
      "77\n",
      "78\n",
      "79\n",
      "80\n",
      "81\n",
      "82\n",
      "83\n",
      "84\n",
      "85\n",
      "86\n",
      "87\n",
      "88\n",
      "89\n",
      "90\n",
      "91\n",
      "92\n",
      "93\n",
      "94\n",
      "95\n",
      "96\n",
      "97\n",
      "98\n",
      "99\n"
     ]
    }
   ],
   "source": [
    "reviews = []\n",
    "for i, t in enumerate(movies.tconst.values):\n",
    "    print i\n",
    "    reviews.append(imdb.get_title_reviews(t, max_results=100))"
   ]
  },
  {
   "cell_type": "markdown",
   "metadata": {},
   "source": [
    "#### 2. Extract the reviews and the rating per review for each movie\n",
    "\n",
    "*Note*: \"soup\" from BeautifulSoup is the html returned from all 25 pages. You'll need to either address each page individually or break them down by elements."
   ]
  },
  {
   "cell_type": "code",
   "execution_count": 19,
   "metadata": {
    "collapsed": false
   },
   "outputs": [],
   "source": [
    "expanded = []\n",
    "header = ['tconst','user_rating','review']\n",
    "for i, t in enumerate(movies.tconst.values):\n",
    "    for r in reviews[i]:\n",
    "        row = [t, r.rating, r.text]\n",
    "        expanded.append(row)\n",
    "    "
   ]
  },
  {
   "cell_type": "code",
   "execution_count": 20,
   "metadata": {
    "collapsed": false
   },
   "outputs": [
    {
     "data": {
      "text/html": [
       "<div>\n",
       "<table border=\"1\" class=\"dataframe\">\n",
       "  <thead>\n",
       "    <tr style=\"text-align: right;\">\n",
       "      <th></th>\n",
       "      <th>tconst</th>\n",
       "      <th>user_rating</th>\n",
       "      <th>review</th>\n",
       "    </tr>\n",
       "  </thead>\n",
       "  <tbody>\n",
       "    <tr>\n",
       "      <th>0</th>\n",
       "      <td>tt0111161</td>\n",
       "      <td>10.0</td>\n",
       "      <td>Why do I want to write the 234th comment on Th...</td>\n",
       "    </tr>\n",
       "    <tr>\n",
       "      <th>1</th>\n",
       "      <td>tt0111161</td>\n",
       "      <td>10.0</td>\n",
       "      <td>\\nCan Hollywood, usually creating things for e...</td>\n",
       "    </tr>\n",
       "    <tr>\n",
       "      <th>2</th>\n",
       "      <td>tt0111161</td>\n",
       "      <td>NaN</td>\n",
       "      <td>\\nI have never seen such an amazing film since...</td>\n",
       "    </tr>\n",
       "    <tr>\n",
       "      <th>3</th>\n",
       "      <td>tt0111161</td>\n",
       "      <td>10.0</td>\n",
       "      <td>In its Oscar year, Shawshank Redemption (writt...</td>\n",
       "    </tr>\n",
       "    <tr>\n",
       "      <th>4</th>\n",
       "      <td>tt0111161</td>\n",
       "      <td>NaN</td>\n",
       "      <td>The reason I became a member of this database ...</td>\n",
       "    </tr>\n",
       "  </tbody>\n",
       "</table>\n",
       "</div>"
      ],
      "text/plain": [
       "      tconst  user_rating                                             review\n",
       "0  tt0111161         10.0  Why do I want to write the 234th comment on Th...\n",
       "1  tt0111161         10.0  \\nCan Hollywood, usually creating things for e...\n",
       "2  tt0111161          NaN  \\nI have never seen such an amazing film since...\n",
       "3  tt0111161         10.0  In its Oscar year, Shawshank Redemption (writt...\n",
       "4  tt0111161          NaN  The reason I became a member of this database ..."
      ]
     },
     "execution_count": 20,
     "metadata": {},
     "output_type": "execute_result"
    }
   ],
   "source": [
    "user_reviews = pd.DataFrame(expanded, columns=header)\n",
    "user_reviews.head()"
   ]
  },
  {
   "cell_type": "code",
   "execution_count": 21,
   "metadata": {
    "collapsed": false
   },
   "outputs": [
    {
     "data": {
      "text/plain": [
       "array([ 10.,  nan,   8.,   7.,   9.,   6.,   3.,   1.,   5.,   4.,   2.])"
      ]
     },
     "execution_count": 21,
     "metadata": {},
     "output_type": "execute_result"
    }
   ],
   "source": [
    "user_reviews.user_rating.unique()"
   ]
  },
  {
   "cell_type": "code",
   "execution_count": 22,
   "metadata": {
    "collapsed": false
   },
   "outputs": [
    {
     "name": "stdout",
     "output_type": "stream",
     "text": [
      "(8783, 3)\n"
     ]
    }
   ],
   "source": [
    "user_reviews.dropna(inplace=True)\n",
    "print user_reviews.shape"
   ]
  },
  {
   "cell_type": "markdown",
   "metadata": {},
   "source": [
    "#### 3. Remove the non AlphaNumeric characters from reviews"
   ]
  },
  {
   "cell_type": "code",
   "execution_count": 23,
   "metadata": {
    "collapsed": false
   },
   "outputs": [],
   "source": [
    "import string\n",
    "valid_chars = string.ascii_lowercase+' '\n",
    "\n",
    "user_reviews['review_parsed'] = user_reviews.review.map(lambda x: ''.join([x_ for x_ in x.lower() if x_ in valid_chars]))"
   ]
  },
  {
   "cell_type": "code",
   "execution_count": 24,
   "metadata": {
    "collapsed": false
   },
   "outputs": [
    {
     "data": {
      "text/html": [
       "<div>\n",
       "<table border=\"1\" class=\"dataframe\">\n",
       "  <thead>\n",
       "    <tr style=\"text-align: right;\">\n",
       "      <th></th>\n",
       "      <th>tconst</th>\n",
       "      <th>user_rating</th>\n",
       "      <th>review</th>\n",
       "      <th>review_parsed</th>\n",
       "    </tr>\n",
       "  </thead>\n",
       "  <tbody>\n",
       "    <tr>\n",
       "      <th>0</th>\n",
       "      <td>tt0111161</td>\n",
       "      <td>10.0</td>\n",
       "      <td>Why do I want to write the 234th comment on Th...</td>\n",
       "      <td>why do i want to write the th comment on the s...</td>\n",
       "    </tr>\n",
       "    <tr>\n",
       "      <th>1</th>\n",
       "      <td>tt0111161</td>\n",
       "      <td>10.0</td>\n",
       "      <td>\\nCan Hollywood, usually creating things for e...</td>\n",
       "      <td>can hollywood usually creating things for ente...</td>\n",
       "    </tr>\n",
       "    <tr>\n",
       "      <th>3</th>\n",
       "      <td>tt0111161</td>\n",
       "      <td>10.0</td>\n",
       "      <td>In its Oscar year, Shawshank Redemption (writt...</td>\n",
       "      <td>in its oscar year shawshank redemption written...</td>\n",
       "    </tr>\n",
       "    <tr>\n",
       "      <th>5</th>\n",
       "      <td>tt0111161</td>\n",
       "      <td>8.0</td>\n",
       "      <td>\\nI believe that this film is the best story e...</td>\n",
       "      <td>i believe that this film is the best story eve...</td>\n",
       "    </tr>\n",
       "    <tr>\n",
       "      <th>6</th>\n",
       "      <td>tt0111161</td>\n",
       "      <td>10.0</td>\n",
       "      <td>\\nOne of my all time favorites. Shawshank Rede...</td>\n",
       "      <td>one of my all time favorites shawshank redempt...</td>\n",
       "    </tr>\n",
       "  </tbody>\n",
       "</table>\n",
       "</div>"
      ],
      "text/plain": [
       "      tconst  user_rating                                             review  \\\n",
       "0  tt0111161         10.0  Why do I want to write the 234th comment on Th...   \n",
       "1  tt0111161         10.0  \\nCan Hollywood, usually creating things for e...   \n",
       "3  tt0111161         10.0  In its Oscar year, Shawshank Redemption (writt...   \n",
       "5  tt0111161          8.0  \\nI believe that this film is the best story e...   \n",
       "6  tt0111161         10.0  \\nOne of my all time favorites. Shawshank Rede...   \n",
       "\n",
       "                                       review_parsed  \n",
       "0  why do i want to write the th comment on the s...  \n",
       "1  can hollywood usually creating things for ente...  \n",
       "3  in its oscar year shawshank redemption written...  \n",
       "5  i believe that this film is the best story eve...  \n",
       "6  one of my all time favorites shawshank redempt...  "
      ]
     },
     "execution_count": 24,
     "metadata": {},
     "output_type": "execute_result"
    }
   ],
   "source": [
    "user_reviews.head()"
   ]
  },
  {
   "cell_type": "code",
   "execution_count": 25,
   "metadata": {
    "collapsed": true
   },
   "outputs": [],
   "source": [
    "user_reviews.drop(['review'], axis=1, inplace=True)"
   ]
  },
  {
   "cell_type": "markdown",
   "metadata": {},
   "source": [
    "#### 4. Calculate the top 200 ngrams from the user reviews\n",
    "\n",
    "Use the `TfidfVectorizer` in sklearn.\n",
    "\n",
    "Recommended parameters:\n",
    "\n",
    "    ngram_range = (1, 2)\n",
    "    stop_words = 'english'\n",
    "    binary = False\n",
    "    max_features = 200"
   ]
  },
  {
   "cell_type": "code",
   "execution_count": 26,
   "metadata": {
    "collapsed": false
   },
   "outputs": [],
   "source": [
    "from sklearn.feature_extraction.text import TfidfVectorizer"
   ]
  },
  {
   "cell_type": "code",
   "execution_count": 27,
   "metadata": {
    "collapsed": true
   },
   "outputs": [],
   "source": [
    "tfidf = TfidfVectorizer(ngram_range=(1,2),\n",
    "                        stop_words='english',\n",
    "                        binary=False,\n",
    "                        max_features=200)\n",
    "\n",
    "review_feats = tfidf.fit_transform(user_reviews.review_parsed.values)"
   ]
  },
  {
   "cell_type": "code",
   "execution_count": 28,
   "metadata": {
    "collapsed": false,
    "scrolled": true
   },
   "outputs": [
    {
     "name": "stdout",
     "output_type": "stream",
     "text": [
      "(8783, 200)\n",
      "[u'acting', u'action', u'actor', u'actors', u'actually', u'amazing', u'american', u'audience', u'away', u'bad', u'beautiful', u'believe', u'best', u'better', u'big', u'bit', u'black', u'book', u'brilliant', u'camera']\n",
      "[[ 0.          0.09280123  0.          0.          0.          0.          0.\n",
      "   0.          0.          0.          0.          0.          0.30525193\n",
      "   0.16705604  0.          0.          0.          0.          0.          0.\n",
      "   0.          0.          0.          0.          0.          0.          0.\n",
      "   0.          0.          0.          0.          0.          0.          0.\n",
      "   0.20680228  0.          0.          0.0923789   0.          0.          0.\n",
      "   0.          0.          0.14807188  0.          0.20988566  0.          0.\n",
      "   0.          0.          0.          0.          0.          0.          0.\n",
      "   0.          0.17537346  0.          0.          0.          0.          0.\n",
      "   0.          0.          0.09830664  0.          0.          0.          0.\n",
      "   0.          0.          0.          0.          0.          0.\n",
      "   0.10368232  0.          0.          0.          0.          0.          0.\n",
      "   0.          0.          0.          0.          0.          0.          0.\n",
      "   0.05512256  0.          0.          0.          0.          0.\n",
      "   0.1647557   0.          0.          0.          0.          0.          0.\n",
      "   0.          0.          0.          0.07947464  0.          0.          0.\n",
      "   0.          0.10982047  0.          0.          0.          0.          0.\n",
      "   0.25998819  0.27054837  0.          0.          0.          0.          0.\n",
      "   0.          0.06954141  0.          0.          0.          0.          0.\n",
      "   0.          0.          0.          0.          0.          0.          0.\n",
      "   0.          0.          0.11538687  0.          0.06666074  0.          0.\n",
      "   0.          0.40705881  0.          0.          0.          0.          0.\n",
      "   0.          0.          0.          0.          0.2122848   0.          0.\n",
      "   0.          0.          0.11194908  0.          0.10494283  0.          0.\n",
      "   0.          0.          0.10538686  0.09845588  0.          0.          0.\n",
      "   0.18106746  0.          0.09872628  0.05495624  0.17588598  0.          0.\n",
      "   0.          0.          0.          0.          0.          0.\n",
      "   0.09626034  0.          0.          0.          0.21925312  0.30589403\n",
      "   0.          0.          0.          0.          0.08604971  0.          0.\n",
      "   0.          0.        ]]\n"
     ]
    }
   ],
   "source": [
    "review_feats = review_feats.todense()\n",
    "print review_feats.shape\n",
    "review_feats_cols = tfidf.get_feature_names()\n",
    "print review_feats_cols[0:20]\n",
    "print review_feats[0:1]"
   ]
  },
  {
   "cell_type": "code",
   "execution_count": 29,
   "metadata": {
    "collapsed": true
   },
   "outputs": [],
   "source": [
    "review_feats = pd.DataFrame(review_feats, columns=review_feats_cols)"
   ]
  },
  {
   "cell_type": "markdown",
   "metadata": {},
   "source": [
    "#### 5. Merge the user reviews and ratings"
   ]
  },
  {
   "cell_type": "code",
   "execution_count": 30,
   "metadata": {
    "collapsed": false
   },
   "outputs": [],
   "source": [
    "review_feats['tconst'] = user_reviews.tconst\n",
    "review_feats['user_rating'] = user_reviews.user_rating"
   ]
  },
  {
   "cell_type": "code",
   "execution_count": 45,
   "metadata": {
    "collapsed": true
   },
   "outputs": [],
   "source": [
    "movies = movies.merge(review_feats, on='tconst')"
   ]
  },
  {
   "cell_type": "code",
   "execution_count": 32,
   "metadata": {
    "collapsed": false
   },
   "outputs": [
    {
     "data": {
      "text/plain": [
       "(7755, 227)"
      ]
     },
     "execution_count": 32,
     "metadata": {},
     "output_type": "execute_result"
    }
   ],
   "source": [
    "movies.shape"
   ]
  },
  {
   "cell_type": "code",
   "execution_count": 33,
   "metadata": {
    "collapsed": false
   },
   "outputs": [
    {
     "data": {
      "text/html": [
       "<div>\n",
       "<table border=\"1\" class=\"dataframe\">\n",
       "  <thead>\n",
       "    <tr style=\"text-align: right;\">\n",
       "      <th></th>\n",
       "      <th>num_votes</th>\n",
       "      <th>rating</th>\n",
       "      <th>tconst</th>\n",
       "      <th>title</th>\n",
       "      <th>year_x</th>\n",
       "      <th>Action</th>\n",
       "      <th>Adventure</th>\n",
       "      <th>Animation</th>\n",
       "      <th>Biography</th>\n",
       "      <th>Comedy</th>\n",
       "      <th>...</th>\n",
       "      <th>watching</th>\n",
       "      <th>way</th>\n",
       "      <th>wife</th>\n",
       "      <th>wonderful</th>\n",
       "      <th>work</th>\n",
       "      <th>world</th>\n",
       "      <th>year_y</th>\n",
       "      <th>years</th>\n",
       "      <th>young</th>\n",
       "      <th>user_rating</th>\n",
       "    </tr>\n",
       "  </thead>\n",
       "  <tbody>\n",
       "    <tr>\n",
       "      <th>0</th>\n",
       "      <td>1661358.0</td>\n",
       "      <td>9.3</td>\n",
       "      <td>tt0111161</td>\n",
       "      <td>The Shawshank Redemption</td>\n",
       "      <td>1994.0</td>\n",
       "      <td>0</td>\n",
       "      <td>0</td>\n",
       "      <td>0</td>\n",
       "      <td>0</td>\n",
       "      <td>0</td>\n",
       "      <td>...</td>\n",
       "      <td>0.000000</td>\n",
       "      <td>0.000000</td>\n",
       "      <td>0.000000</td>\n",
       "      <td>0.000000</td>\n",
       "      <td>0.086050</td>\n",
       "      <td>0.000000</td>\n",
       "      <td>0.0</td>\n",
       "      <td>0.000000</td>\n",
       "      <td>0.000000</td>\n",
       "      <td>10.0</td>\n",
       "    </tr>\n",
       "    <tr>\n",
       "      <th>1</th>\n",
       "      <td>1661358.0</td>\n",
       "      <td>9.3</td>\n",
       "      <td>tt0111161</td>\n",
       "      <td>The Shawshank Redemption</td>\n",
       "      <td>1994.0</td>\n",
       "      <td>0</td>\n",
       "      <td>0</td>\n",
       "      <td>0</td>\n",
       "      <td>0</td>\n",
       "      <td>0</td>\n",
       "      <td>...</td>\n",
       "      <td>0.000000</td>\n",
       "      <td>0.046514</td>\n",
       "      <td>0.080187</td>\n",
       "      <td>0.000000</td>\n",
       "      <td>0.176169</td>\n",
       "      <td>0.114183</td>\n",
       "      <td>0.0</td>\n",
       "      <td>0.000000</td>\n",
       "      <td>0.068844</td>\n",
       "      <td>10.0</td>\n",
       "    </tr>\n",
       "    <tr>\n",
       "      <th>2</th>\n",
       "      <td>1661358.0</td>\n",
       "      <td>9.3</td>\n",
       "      <td>tt0111161</td>\n",
       "      <td>The Shawshank Redemption</td>\n",
       "      <td>1994.0</td>\n",
       "      <td>0</td>\n",
       "      <td>0</td>\n",
       "      <td>0</td>\n",
       "      <td>0</td>\n",
       "      <td>0</td>\n",
       "      <td>...</td>\n",
       "      <td>0.130955</td>\n",
       "      <td>0.103046</td>\n",
       "      <td>0.177643</td>\n",
       "      <td>0.000000</td>\n",
       "      <td>0.000000</td>\n",
       "      <td>0.000000</td>\n",
       "      <td>0.0</td>\n",
       "      <td>0.000000</td>\n",
       "      <td>0.000000</td>\n",
       "      <td>10.0</td>\n",
       "    </tr>\n",
       "    <tr>\n",
       "      <th>3</th>\n",
       "      <td>1661358.0</td>\n",
       "      <td>9.3</td>\n",
       "      <td>tt0111161</td>\n",
       "      <td>The Shawshank Redemption</td>\n",
       "      <td>1994.0</td>\n",
       "      <td>0</td>\n",
       "      <td>0</td>\n",
       "      <td>0</td>\n",
       "      <td>0</td>\n",
       "      <td>0</td>\n",
       "      <td>...</td>\n",
       "      <td>0.000000</td>\n",
       "      <td>0.000000</td>\n",
       "      <td>0.000000</td>\n",
       "      <td>0.211488</td>\n",
       "      <td>0.000000</td>\n",
       "      <td>0.326944</td>\n",
       "      <td>0.0</td>\n",
       "      <td>0.477489</td>\n",
       "      <td>0.000000</td>\n",
       "      <td>8.0</td>\n",
       "    </tr>\n",
       "    <tr>\n",
       "      <th>4</th>\n",
       "      <td>1661358.0</td>\n",
       "      <td>9.3</td>\n",
       "      <td>tt0111161</td>\n",
       "      <td>The Shawshank Redemption</td>\n",
       "      <td>1994.0</td>\n",
       "      <td>0</td>\n",
       "      <td>0</td>\n",
       "      <td>0</td>\n",
       "      <td>0</td>\n",
       "      <td>0</td>\n",
       "      <td>...</td>\n",
       "      <td>0.000000</td>\n",
       "      <td>0.000000</td>\n",
       "      <td>0.000000</td>\n",
       "      <td>0.000000</td>\n",
       "      <td>0.000000</td>\n",
       "      <td>0.095678</td>\n",
       "      <td>0.0</td>\n",
       "      <td>0.186312</td>\n",
       "      <td>0.000000</td>\n",
       "      <td>10.0</td>\n",
       "    </tr>\n",
       "  </tbody>\n",
       "</table>\n",
       "<p>5 rows × 227 columns</p>\n",
       "</div>"
      ],
      "text/plain": [
       "   num_votes  rating     tconst                     title  year_x  Action  \\\n",
       "0  1661358.0     9.3  tt0111161  The Shawshank Redemption  1994.0       0   \n",
       "1  1661358.0     9.3  tt0111161  The Shawshank Redemption  1994.0       0   \n",
       "2  1661358.0     9.3  tt0111161  The Shawshank Redemption  1994.0       0   \n",
       "3  1661358.0     9.3  tt0111161  The Shawshank Redemption  1994.0       0   \n",
       "4  1661358.0     9.3  tt0111161  The Shawshank Redemption  1994.0       0   \n",
       "\n",
       "   Adventure  Animation  Biography  Comedy     ...       watching       way  \\\n",
       "0          0          0          0       0     ...       0.000000  0.000000   \n",
       "1          0          0          0       0     ...       0.000000  0.046514   \n",
       "2          0          0          0       0     ...       0.130955  0.103046   \n",
       "3          0          0          0       0     ...       0.000000  0.000000   \n",
       "4          0          0          0       0     ...       0.000000  0.000000   \n",
       "\n",
       "       wife  wonderful      work     world  year_y     years     young  \\\n",
       "0  0.000000   0.000000  0.086050  0.000000     0.0  0.000000  0.000000   \n",
       "1  0.080187   0.000000  0.176169  0.114183     0.0  0.000000  0.068844   \n",
       "2  0.177643   0.000000  0.000000  0.000000     0.0  0.000000  0.000000   \n",
       "3  0.000000   0.211488  0.000000  0.326944     0.0  0.477489  0.000000   \n",
       "4  0.000000   0.000000  0.000000  0.095678     0.0  0.186312  0.000000   \n",
       "\n",
       "   user_rating  \n",
       "0         10.0  \n",
       "1         10.0  \n",
       "2         10.0  \n",
       "3          8.0  \n",
       "4         10.0  \n",
       "\n",
       "[5 rows x 227 columns]"
      ]
     },
     "execution_count": 33,
     "metadata": {},
     "output_type": "execute_result"
    }
   ],
   "source": [
    "movies.head()"
   ]
  },
  {
   "cell_type": "code",
   "execution_count": 37,
   "metadata": {
    "collapsed": false
   },
   "outputs": [
    {
     "data": {
      "text/plain": [
       "Index([     u'num_votes',         u'rating',         u'tconst',\n",
       "                u'title',         u'year_x',         u'Action',\n",
       "            u'Adventure',      u'Animation',      u'Biography',\n",
       "               u'Comedy',          u'Crime',          u'Drama',\n",
       "               u'Family',        u'Fantasy',      u'Film-Noir',\n",
       "              u'History',         u'Horror',          u'Music',\n",
       "              u'Musical',        u'Mystery',        u'Romance',\n",
       "               u'Sci-Fi',       u'Thriller',            u'War',\n",
       "              u'Western',        u'runtime',         u'acting',\n",
       "               u'action',          u'actor',         u'actors',\n",
       "             u'actually',        u'amazing',       u'american',\n",
       "             u'audience',           u'away',            u'bad',\n",
       "            u'beautiful',        u'believe',           u'best',\n",
       "               u'better',            u'big',            u'bit',\n",
       "                u'black',           u'book',      u'brilliant',\n",
       "               u'camera',           u'cast',        u'chaplin',\n",
       "            u'character',     u'characters',         u'cinema',\n",
       "       u'cinematography',           u'city',        u'classic',\n",
       "                 u'come',         u'comedy',          u'comes',\n",
       "           u'completely',         u'course',           u'dark',\n",
       "                  u'day',          u'death',            u'did',\n",
       "                u'didnt',      u'different',      u'direction',\n",
       "             u'director',           u'does',         u'doesnt',\n",
       "                 u'dont',          u'drama',        u'effects',\n",
       "                  u'end',         u'ending',         u'entire',\n",
       "           u'especially',      u'excellent',     u'experience',\n",
       "                 u'fact',         u'family',            u'far',\n",
       "             u'favorite',           u'feel',           u'felt',\n",
       "                u'fight',           u'film',          u'films',\n",
       "                u'final',        u'finally',          u'funny',\n",
       "                 u'gets',          u'given',          u'gives',\n",
       "                 u'goes',          u'going',           u'good',\n",
       "                  u'got',          u'great',       u'greatest',\n",
       "                  u'guy'],\n",
       "      dtype='object')"
      ]
     },
     "execution_count": 37,
     "metadata": {},
     "output_type": "execute_result"
    }
   ],
   "source": [
    "movies.columns[0:100]"
   ]
  },
  {
   "cell_type": "markdown",
   "metadata": {},
   "source": [
    "#### 6. Save this merged dataframe as a csv"
   ]
  },
  {
   "cell_type": "code",
   "execution_count": 42,
   "metadata": {
    "collapsed": false
   },
   "outputs": [
    {
     "name": "stdout",
     "output_type": "stream",
     "text": [
      "Index([u'', u'', u'', u'', u'', u'', u'', u'', u'', u'',\n",
      "       ...\n",
      "       u'', u'', u'', u'', u'', u'', u'', u'', u'', u''],\n",
      "      dtype='object', length=227)\n"
     ]
    }
   ],
   "source": []
  },
  {
   "cell_type": "code",
   "execution_count": 46,
   "metadata": {
    "collapsed": false
   },
   "outputs": [],
   "source": [
    "movies.to_csv('movies_user.csv', index=False, encoding='utf-8')"
   ]
  },
  {
   "cell_type": "markdown",
   "metadata": {},
   "source": [
    "---\n",
    "\n",
    "## Part 3: Combine Tables in PostgreSQL"
   ]
  },
  {
   "cell_type": "markdown",
   "metadata": {},
   "source": [
    "#### 1. Import your two .csv data files into your Postgre Database as two different tables"
   ]
  },
  {
   "cell_type": "markdown",
   "metadata": {},
   "source": [
    "For ease, we can call these table1 and table2"
   ]
  },
  {
   "cell_type": "markdown",
   "metadata": {},
   "source": [
    "#### 2. Connect to database and query the joined set"
   ]
  },
  {
   "cell_type": "code",
   "execution_count": null,
   "metadata": {
    "collapsed": true
   },
   "outputs": [],
   "source": []
  },
  {
   "cell_type": "markdown",
   "metadata": {},
   "source": [
    "#### 3. Join the two tables "
   ]
  },
  {
   "cell_type": "code",
   "execution_count": null,
   "metadata": {
    "collapsed": true
   },
   "outputs": [],
   "source": []
  },
  {
   "cell_type": "markdown",
   "metadata": {},
   "source": [
    "#### 4. Select the newly joined table and save two copies of the into dataframes"
   ]
  },
  {
   "cell_type": "code",
   "execution_count": null,
   "metadata": {
    "collapsed": true
   },
   "outputs": [],
   "source": []
  },
  {
   "cell_type": "markdown",
   "metadata": {},
   "source": [
    "## Part 4: Parsing and Exploratory Data Analysis"
   ]
  },
  {
   "cell_type": "markdown",
   "metadata": {},
   "source": [
    "#### 1. Rename any columns you think should be renamed for clarity"
   ]
  },
  {
   "cell_type": "code",
   "execution_count": 26,
   "metadata": {
    "collapsed": true
   },
   "outputs": [],
   "source": []
  },
  {
   "cell_type": "markdown",
   "metadata": {},
   "source": [
    "#### 2. Describe anything interesting or suspicious about your data (quality assurance)"
   ]
  },
  {
   "cell_type": "code",
   "execution_count": null,
   "metadata": {
    "collapsed": true
   },
   "outputs": [],
   "source": []
  },
  {
   "cell_type": "markdown",
   "metadata": {
    "collapsed": true
   },
   "source": [
    "#### 3. Make four visualizations of interest to you using the data"
   ]
  },
  {
   "cell_type": "code",
   "execution_count": null,
   "metadata": {
    "collapsed": true
   },
   "outputs": [],
   "source": []
  },
  {
   "cell_type": "markdown",
   "metadata": {},
   "source": [
    "---\n",
    "\n",
    "## Part 5: Decision Tree Classifiers and Regressors"
   ]
  },
  {
   "cell_type": "markdown",
   "metadata": {
    "collapsed": true
   },
   "source": [
    "#### 1. What is our target attribute? \n",
    "\n",
    "Choose a target variable for the decision tree regressor and the classifier. "
   ]
  },
  {
   "cell_type": "markdown",
   "metadata": {},
   "source": []
  },
  {
   "cell_type": "markdown",
   "metadata": {},
   "source": [
    "#### 2. Prepare the X and Y matrices and preprocess data as you see fit"
   ]
  },
  {
   "cell_type": "code",
   "execution_count": 3,
   "metadata": {
    "collapsed": false
   },
   "outputs": [
    {
     "name": "stdout",
     "output_type": "stream",
     "text": [
      "   num_votes  rating     tconst                     title    year  Action  \\\n",
      "0     1994.0  1994.0  tt0111161  The Shawshank Redemption  1994.0       0   \n",
      "1     1972.0  1972.0  tt0068646             The Godfather  1972.0       0   \n",
      "2     1974.0  1974.0  tt0071562    The Godfather: Part II  1974.0       0   \n",
      "\n",
      "   Adventure  Animation  Biography  Comedy   ...     Horror  Music  Musical  \\\n",
      "0          0          0          0       0   ...          0      0        0   \n",
      "1          0          0          0       0   ...          0      0        0   \n",
      "2          0          0          0       0   ...          0      0        0   \n",
      "\n",
      "   Mystery  Romance  Sci-Fi  Thriller  War  Western  runtime  \n",
      "0        0        0       0         0    0        0     8520  \n",
      "1        0        0       0         0    0        0    10500  \n",
      "2        0        0       0         0    0        0    12120  \n",
      "\n",
      "[3 rows x 26 columns]\n",
      "Index([u'num_votes', u'rating', u'tconst', u'title', u'year', u'Action',\n",
      "       u'Adventure', u'Animation', u'Biography', u'Comedy', u'Crime', u'Drama',\n",
      "       u'Family', u'Fantasy', u'Film-Noir', u'History', u'Horror', u'Music',\n",
      "       u'Musical', u'Mystery', u'Romance', u'Sci-Fi', u'Thriller', u'War',\n",
      "       u'Western', u'runtime'],\n",
      "      dtype='object')\n"
     ]
    }
   ],
   "source": [
    "movies = pd.read_csv('movies.csv')\n",
    "print movies.head(3)\n",
    "print movies.columns"
   ]
  },
  {
   "cell_type": "markdown",
   "metadata": {},
   "source": [
    "#### 3. Build and cross-validate your decision tree classifier"
   ]
  },
  {
   "cell_type": "code",
   "execution_count": null,
   "metadata": {
    "collapsed": true
   },
   "outputs": [],
   "source": []
  },
  {
   "cell_type": "markdown",
   "metadata": {},
   "source": [
    "#### 4. Gridsearch optimal parameters for your classifier. Does the performance improve?"
   ]
  },
  {
   "cell_type": "code",
   "execution_count": null,
   "metadata": {
    "collapsed": true
   },
   "outputs": [],
   "source": []
  },
  {
   "cell_type": "markdown",
   "metadata": {},
   "source": [
    "#### 5. Build and cross-validate your decision tree regressor"
   ]
  },
  {
   "cell_type": "code",
   "execution_count": null,
   "metadata": {
    "collapsed": true
   },
   "outputs": [],
   "source": []
  },
  {
   "cell_type": "markdown",
   "metadata": {},
   "source": [
    "#### 6. Gridsearch the optimal parameters for your classifier. Does performance improve?"
   ]
  },
  {
   "cell_type": "code",
   "execution_count": null,
   "metadata": {
    "collapsed": true
   },
   "outputs": [],
   "source": []
  },
  {
   "cell_type": "markdown",
   "metadata": {},
   "source": [
    "---\n",
    "\n",
    "## Part 6: Elastic Net\n"
   ]
  },
  {
   "cell_type": "markdown",
   "metadata": {},
   "source": [
    "#### 1. Gridsearch optimal parameters for an ElasticNet using the regression target and predictors you used for the decision tree regressor.\n"
   ]
  },
  {
   "cell_type": "code",
   "execution_count": null,
   "metadata": {
    "collapsed": true
   },
   "outputs": [],
   "source": []
  },
  {
   "cell_type": "markdown",
   "metadata": {},
   "source": [
    "#### 2. Is cross-validated performance better or worse than with the decision trees? "
   ]
  },
  {
   "cell_type": "code",
   "execution_count": null,
   "metadata": {
    "collapsed": true
   },
   "outputs": [],
   "source": []
  },
  {
   "cell_type": "markdown",
   "metadata": {},
   "source": [
    "#### 3. Explain why the elastic net may have performed best at that particular l1_ratio and alpha"
   ]
  },
  {
   "cell_type": "code",
   "execution_count": null,
   "metadata": {
    "collapsed": true
   },
   "outputs": [],
   "source": []
  },
  {
   "cell_type": "markdown",
   "metadata": {},
   "source": [
    "---\n",
    "\n",
    "## Part 7: Bagging and Boosting: Random Forests, Extra Trees, and AdaBoost"
   ]
  },
  {
   "cell_type": "markdown",
   "metadata": {},
   "source": [
    "#### 1. Load the random forest regressor, extra trees regressor, and adaboost regressor from sklearn"
   ]
  },
  {
   "cell_type": "code",
   "execution_count": null,
   "metadata": {
    "collapsed": true
   },
   "outputs": [],
   "source": []
  },
  {
   "cell_type": "markdown",
   "metadata": {},
   "source": [
    "#### 2. Gridsearch optimal parameters for the three different ensemble methods."
   ]
  },
  {
   "cell_type": "code",
   "execution_count": null,
   "metadata": {
    "collapsed": true
   },
   "outputs": [],
   "source": []
  },
  {
   "cell_type": "markdown",
   "metadata": {},
   "source": [
    "#### 3. Evaluate the performance of the two bagging and one boosting model. Which performs best?"
   ]
  },
  {
   "cell_type": "code",
   "execution_count": null,
   "metadata": {
    "collapsed": true
   },
   "outputs": [],
   "source": []
  },
  {
   "cell_type": "markdown",
   "metadata": {},
   "source": [
    "#### 4. Extract the feature importances from the Random Forest regressor and make a DataFrame pairing variable names with their variable importances."
   ]
  },
  {
   "cell_type": "code",
   "execution_count": null,
   "metadata": {
    "collapsed": true
   },
   "outputs": [],
   "source": []
  },
  {
   "cell_type": "markdown",
   "metadata": {},
   "source": [
    "#### 5. Plot the ranked feature importances."
   ]
  },
  {
   "cell_type": "code",
   "execution_count": null,
   "metadata": {
    "collapsed": true
   },
   "outputs": [],
   "source": []
  },
  {
   "cell_type": "markdown",
   "metadata": {},
   "source": [
    "#### 6.1 [BONUS] Gridsearch an optimal Lasso model and use it for variable selection (make a new predictor matrix with only the variables not zeroed out by the Lasso). "
   ]
  },
  {
   "cell_type": "code",
   "execution_count": null,
   "metadata": {
    "collapsed": true
   },
   "outputs": [],
   "source": []
  },
  {
   "cell_type": "markdown",
   "metadata": {},
   "source": [
    "#### 6.2 [BONUS] Gridsearch your best performing bagging/boosting model from above with the features retained after the Lasso. Does the score improve?"
   ]
  },
  {
   "cell_type": "code",
   "execution_count": null,
   "metadata": {
    "collapsed": true
   },
   "outputs": [],
   "source": []
  },
  {
   "cell_type": "markdown",
   "metadata": {},
   "source": [
    "#### 7.1. [BONUS] Select a threshold for variable importance from your Random Forest regressor and use that to perform feature selection, creating a new subset predictor matrix."
   ]
  },
  {
   "cell_type": "code",
   "execution_count": null,
   "metadata": {
    "collapsed": true
   },
   "outputs": [],
   "source": []
  },
  {
   "cell_type": "markdown",
   "metadata": {},
   "source": [
    "#### 7.2 [BONUS] Using BaggingRegressor with a base estimator of your choice, test a model using the feature-selected dataset you made in 7.1"
   ]
  },
  {
   "cell_type": "code",
   "execution_count": null,
   "metadata": {
    "collapsed": true
   },
   "outputs": [],
   "source": []
  },
  {
   "cell_type": "markdown",
   "metadata": {},
   "source": [
    "## [VERY BONUS] Part 8: PCA"
   ]
  },
  {
   "cell_type": "markdown",
   "metadata": {},
   "source": [
    "#### 1. Perform a PCA on your predictor matrix"
   ]
  },
  {
   "cell_type": "code",
   "execution_count": null,
   "metadata": {
    "collapsed": true
   },
   "outputs": [],
   "source": []
  },
  {
   "cell_type": "markdown",
   "metadata": {},
   "source": [
    "#### 2. Examine the variance explained and determine what components you want to keep based on them."
   ]
  },
  {
   "cell_type": "code",
   "execution_count": null,
   "metadata": {
    "collapsed": true
   },
   "outputs": [],
   "source": []
  },
  {
   "cell_type": "markdown",
   "metadata": {},
   "source": [
    "#### 3. Plot the cumulative variance explained by the ordered principal components."
   ]
  },
  {
   "cell_type": "code",
   "execution_count": null,
   "metadata": {
    "collapsed": true
   },
   "outputs": [],
   "source": []
  },
  {
   "cell_type": "markdown",
   "metadata": {},
   "source": [
    "#### 4. Gridsearch an elastic net using the principal components you selected as your predictors. Does this perform better than the elastic net you fit earlier?"
   ]
  },
  {
   "cell_type": "code",
   "execution_count": null,
   "metadata": {
    "collapsed": true
   },
   "outputs": [],
   "source": []
  },
  {
   "cell_type": "markdown",
   "metadata": {},
   "source": [
    "#### 5. Gridsearch a bagging ensemble estimator that you fit before, this time using the principal components as predictors. Does this perform better or worse than the original? "
   ]
  },
  {
   "cell_type": "code",
   "execution_count": null,
   "metadata": {
    "collapsed": true
   },
   "outputs": [],
   "source": []
  },
  {
   "cell_type": "markdown",
   "metadata": {},
   "source": [
    "#### 6. Look at the loadings of the original predictor columns on the first 3 principal components. Is there any kind of intuitive meaning here?\n",
    "\n",
    "Hint, you will probably want to sort by absolute value of magnitude of loading, and also only look at the obviously important (larger) ones!"
   ]
  },
  {
   "cell_type": "code",
   "execution_count": null,
   "metadata": {
    "collapsed": true
   },
   "outputs": [],
   "source": []
  }
 ],
 "metadata": {
  "kernelspec": {
   "display_name": "Python [Root]",
   "language": "python",
   "name": "Python [Root]"
  },
  "language_info": {
   "codemirror_mode": {
    "name": "ipython",
    "version": 2
   },
   "file_extension": ".py",
   "mimetype": "text/x-python",
   "name": "python",
   "nbconvert_exporter": "python",
   "pygments_lexer": "ipython2",
   "version": "2.7.12"
  }
 },
 "nbformat": 4,
 "nbformat_minor": 0
}
